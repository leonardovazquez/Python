{
 "cells": [
  {
   "cell_type": "code",
   "execution_count": 2,
   "id": "482bbe57",
   "metadata": {},
   "outputs": [
    {
     "name": "stdout",
     "output_type": "stream",
     "text": [
      "Enter the word: car\n",
      "\" car \"\n",
      "- A four-wheeled motor vehicle used for land transport.\n"
     ]
    }
   ],
   "source": [
    "# Dictionary Algorithmic\n",
    "# This is a small project developed by Leonardo Vazquez.\n",
    "# It uses a .json file to find word definitions. It also includes a checker.\n",
    "\n",
    "# import libraries and modules\n",
    "import json\n",
    "from difflib import get_close_matches\n",
    "\n",
    "# Open the .json file\n",
    "data = json.load(open(\"data.json\"))\n",
    "\n",
    "\n",
    "# Search function definition\n",
    "def search(w):\n",
    "    z = [\"The word is not in the Dictionary\"]\n",
    "    # This is the checker.\n",
    "    if w in data:\n",
    "        print(\"\\\"\", w, \"\\\"\")\n",
    "        return data[w]\n",
    "    elif w.title() in data:\n",
    "        print(\"\\\"\", w.title(), \"\\\"\")\n",
    "        return data[w.title()]\n",
    "    elif w.lower() in data:\n",
    "        print(\"\\\"\", w.lower(), \"\\\"\")\n",
    "        return data[w.lower()]\n",
    "    elif w.upper() in data:\n",
    "        print(\"\\\"\", w.upper(), \"\\\"\")\n",
    "        return data[w.upper()]\n",
    "    # The checker corrects the incorrectly entered word and searches for similar words:\n",
    "    elif len(get_close_matches(w, data.keys())) > 0:\n",
    "        print(\"did you mean \\\"\", get_close_matches(w, data.keys())[0], \"\\\" instead of \\\"\", w, \"\\\"\")\n",
    "        decide = input(\"press \\\"y\\\" for yes or \\\"n\\\" for no.\")\n",
    "        if decide == \"y\":\n",
    "            print(\"\\\"\", get_close_matches(w, data.keys())[0], \"\\\"\")\n",
    "            return data[get_close_matches(w, data.keys())[0]]\n",
    "        else:\n",
    "            return z\n",
    "    else:\n",
    "        return z\n",
    "\n",
    "\n",
    "# The input and the function call\n",
    "word = input(\"Enter the word: \")\n",
    "output = search(word)\n",
    "\n",
    "# The outputs\n",
    "for i in output:\n",
    "    print(\"-\", i)\n",
    "\n"
   ]
  }
 ],
 "metadata": {
  "kernelspec": {
   "display_name": "Python 3 (ipykernel)",
   "language": "python",
   "name": "python3"
  },
  "language_info": {
   "codemirror_mode": {
    "name": "ipython",
    "version": 3
   },
   "file_extension": ".py",
   "mimetype": "text/x-python",
   "name": "python",
   "nbconvert_exporter": "python",
   "pygments_lexer": "ipython3",
   "version": "3.8.10"
  }
 },
 "nbformat": 4,
 "nbformat_minor": 5
}
