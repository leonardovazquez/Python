{
 "cells": [
  {
   "cell_type": "markdown",
   "id": "8d335b2e",
   "metadata": {},
   "source": [
    "# Plotter"
   ]
  },
  {
   "cell_type": "code",
   "execution_count": 159,
   "id": "39b7d3f2",
   "metadata": {},
   "outputs": [
    {
     "data": {
      "text/html": [
       "        <script type=\"text/javascript\">\n",
       "        window.PlotlyConfig = {MathJaxConfig: 'local'};\n",
       "        if (window.MathJax) {MathJax.Hub.Config({SVG: {font: \"STIX-Web\"}});}\n",
       "        if (typeof require !== 'undefined') {\n",
       "        require.undef(\"plotly\");\n",
       "        requirejs.config({\n",
       "            paths: {\n",
       "                'plotly': ['https://cdn.plot.ly/plotly-2.9.0.min']\n",
       "            }\n",
       "        });\n",
       "        require(['plotly'], function(Plotly) {\n",
       "            window._Plotly = Plotly;\n",
       "        });\n",
       "        }\n",
       "        </script>\n",
       "        "
      ]
     },
     "metadata": {},
     "output_type": "display_data"
    },
    {
     "data": {
      "text/html": [
       "        <script type=\"text/javascript\">\n",
       "        window.PlotlyConfig = {MathJaxConfig: 'local'};\n",
       "        if (window.MathJax) {MathJax.Hub.Config({SVG: {font: \"STIX-Web\"}});}\n",
       "        if (typeof require !== 'undefined') {\n",
       "        require.undef(\"plotly\");\n",
       "        requirejs.config({\n",
       "            paths: {\n",
       "                'plotly': ['https://cdn.plot.ly/plotly-2.9.0.min']\n",
       "            }\n",
       "        });\n",
       "        require(['plotly'], function(Plotly) {\n",
       "            window._Plotly = Plotly;\n",
       "        });\n",
       "        }\n",
       "        </script>\n",
       "        "
      ]
     },
     "metadata": {},
     "output_type": "display_data"
    }
   ],
   "source": [
    "# Import Libraries\n",
    "import numpy as np\n",
    "import pandas as pd\n",
    "import chart_studio.plotly as pl\n",
    "import plotly.offline as po\n",
    "import cufflinks as cf\n",
    "po.init_notebook_mode(connected=True)\n",
    "cf.go_offline()"
   ]
  },
  {
   "cell_type": "code",
   "execution_count": 160,
   "id": "f7d40776",
   "metadata": {},
   "outputs": [],
   "source": [
    "# Define DataFrame: Random or from file\n",
    "def create_rand(r, c):\n",
    "    return pd.DataFrame(np.random.rand(r, c),columns = [(i+1) for i in range(c)])\n",
    "\n",
    "def upload_file(file):    \n",
    "    return pd.DataFrame(pd.read_csv(file))  "
   ]
  },
  {
   "cell_type": "code",
   "execution_count": 161,
   "id": "53821c56",
   "metadata": {},
   "outputs": [],
   "source": [
    "# DataFrame Creation\n",
    "def creation(data):\n",
    "    if (data == 1):\n",
    "        print(\"--Random Data--\")\n",
    "        r = int(input(\"Insert number of rows: \"))\n",
    "        c = int(input(\"Insert number of colums: \"))\n",
    "        return create_rand(r, c)\n",
    "    elif (data == 2):\n",
    "        print(\"--File Data--\")\n",
    "        file = input(\"Enter the file name: \")\n",
    "        return upload_file(file) \n",
    "    else:\n",
    "        print(\"--DataFrame creation failed--\")\n",
    "        return create_rand(0,0)"
   ]
  },
  {
   "cell_type": "code",
   "execution_count": 162,
   "id": "d2f4f8e0",
   "metadata": {},
   "outputs": [],
   "source": [
    "# Plotter\n",
    "def plotter(plot, df):\n",
    "    if plot == 1:\n",
    "        return df.iplot(kind=\"scatter\",colorscale=\"paired\")\n",
    "    elif plot == 2:\n",
    "        return df.iplot(kind=\"scatter\", mode=\"markers\", symbol=\"x\",colorscale=\"paired\")\n",
    "    elif plot == 3:\n",
    "        return df.iplot(kind=\"bar\",colorscale=\"paired\")\n",
    "    elif plot == 4:\n",
    "        return df.iplot(kind=\"hist\",colorscale=\"paired\")\n",
    "    elif plot == 5:\n",
    "        return df.iplot(kind=\"box\",colorscale=\"paired\")\n",
    "    elif plot == 6:\n",
    "        return df.iplot(kind=\"surface\",colorscale=\"paired\")\n",
    "    else:\n",
    "        return print(\"Select other\")\n",
    "  "
   ]
  },
  {
   "cell_type": "code",
   "execution_count": 163,
   "id": "1899b175",
   "metadata": {},
   "outputs": [],
   "source": [
    "# For columns selections\n",
    "def col_sel(plot, df, data):\n",
    "    col = int(input(\"Enter the number of columns: \"))\n",
    "    li = list()\n",
    "    if data == 1:\n",
    "        if col==1:\n",
    "            coin = int(input(\"Enter the column you want to plot: \"))\n",
    "            plotter(plot, df[coin-1])   \n",
    "        elif col>1:\n",
    "            coin = int(input(\"Insert a column: \"))\n",
    "            li.append(coin)\n",
    "            for i in range(col-1):\n",
    "                coin2 = int(input(\"Insert another column: \"))\n",
    "                li.append(coin2)\n",
    "            plotter(plot, df[li])\n",
    "    elif data == 2:\n",
    "        if col==1:\n",
    "            coin = input(\"Enter the column name you want to plot: \")\n",
    "            plotter(plot, df[coin])   \n",
    "        elif col>1:\n",
    "            coin = input(\"Enter the first column name: \")\n",
    "            li.append(coin)\n",
    "            for i in range(col-1):\n",
    "                coin2 = input(\"Enter another column: \")\n",
    "                li.append(coin2)\n",
    "            plotter(plot, df[li])     \n",
    "    else:\n",
    "        print(\"Error!\")\n",
    "    \n",
    "     "
   ]
  },
  {
   "cell_type": "code",
   "execution_count": 164,
   "id": "88c452ec",
   "metadata": {},
   "outputs": [],
   "source": [
    "# Main Programm\n",
    "def main(df, data):\n",
    "    print(\"\\n\")\n",
    "    cat = int(input(\"You want to plot the complete data (1) or a simple columns plot (2)? \"))\n",
    "    print(\"\\n\")\n",
    "    print(\"--Plotter--\")\n",
    "    print(\"1. Line Plot\")\n",
    "    print(\"2. Scatter Plot\")\n",
    "    print(\"3. Bar Plot\")\n",
    "    print(\"4. Histogram\")\n",
    "    print(\"5. Box Plot\")\n",
    "    print(\"6. Surface plot\")\n",
    "    print(\"\\n\")\n",
    "    plot = int(input(\"Select the type of plot you need to plot: \"))\n",
    "    if (cat == 2):\n",
    "        output = col_sel(plot, df, data)    \n",
    "    elif (cat == 1):\n",
    "        output = plotter(plot, df)    \n",
    "    else:\n",
    "        print(\"Try Again.\")\n",
    "    "
   ]
  },
  {
   "cell_type": "code",
   "execution_count": null,
   "id": "8e375232",
   "metadata": {
    "scrolled": true
   },
   "outputs": [
    {
     "name": "stdout",
     "output_type": "stream",
     "text": [
      "---THE PLOTTER ---\n",
      "Select the type of data you need to plot (By writing 1 or 2: )\n",
      "1. Random Data\n",
      "2. Upload CSV file\n"
     ]
    }
   ],
   "source": [
    "# The Plotter  \n",
    "print(\"---THE PLOTTER ---\")\n",
    "print(\"Select the type of data you need to plot (By writing 1 or 2: )\")\n",
    "print(\"1. Random Data\")\n",
    "print(\"2. Upload CSV file\") # use agri.csv\n",
    "data = int(input(\"Your Choice: \")) \n",
    "df = creation(data)\n",
    "print(df.head())\n",
    "main(df, data)\n"
   ]
  }
 ],
 "metadata": {
  "kernelspec": {
   "display_name": "Python 3 (ipykernel)",
   "language": "python",
   "name": "python3"
  },
  "language_info": {
   "codemirror_mode": {
    "name": "ipython",
    "version": 3
   },
   "file_extension": ".py",
   "mimetype": "text/x-python",
   "name": "python",
   "nbconvert_exporter": "python",
   "pygments_lexer": "ipython3",
   "version": "3.8.10"
  }
 },
 "nbformat": 4,
 "nbformat_minor": 5
}
